{
 "cells": [
  {
   "cell_type": "markdown",
   "id": "8822d6fc",
   "metadata": {},
   "source": [
    "# Yorum Satırları\n",
    "\n",
    "**Tanım:** Yorum satırları, program tarafından işleme sokulmayacak kod kısımları olarak tanımlanabilir. Bu satırlar, hiçbir şekilde bir işlemde kullanılmaz. Yorum satırlarının amacı yazılan kod hakkında, koda bakan kişiyi bilgilendirmek, açıklama yapmaktır. Özellikle büyük çaplı projelerde, proje bir yazılım ekibi tarafından yazılmaktadır. Bu ekipteki kişilerin, birbirlerinin yazdığı kodlar hakkında bilgi sahibi olması yorum satırları sayesinde sağlanmaktadır. Ayrıca kodu yazan kişinin bir süre sonra koda baktığında kod hakkında bilgilenmesini yorum satırları sağlamaktadır. Yorum satırları sayesinde ileriki zamanlarda kodun okunabilirliği, anlaşılabilirliği artmaktadır.\n",
    "\n",
    "**Özet:** Kısacası yorum satırları kodu inceleyen kişiye/kişilere kodun işlevi hakkı bilgi vermektedir. Böylece faklı zamanlarda kodun devamında yapılacaklar veya koddaki gerekli düzeltmeler kolayca gerçekleştirilebilmektedir.\n",
    "\n",
    "---\n",
    "\n",
    "### Basit Yorum Satırları\n",
    "\n",
    "Python dilinde yorum satırı bırakmak için kullanacağımız ilk sembol `#` olacaktır. `#` işaretinden sonra gelecek değerleri IDE'niz otomatik olarak yorum satırı olarak görecektir çıktıya dahil etmeyecektir."
   ]
  },
  {
   "cell_type": "code",
   "execution_count": 15,
   "id": "7a0abbda",
   "metadata": {},
   "outputs": [
    {
     "name": "stdout",
     "output_type": "stream",
     "text": [
      "Satır 1 : Hello World\n"
     ]
    }
   ],
   "source": [
    "\n",
    "print(\"Satır 1 : Hello World\")\n",
    "#print(\"Satır 2 :Hello World - Comment line\")\n"
   ]
  },
  {
   "cell_type": "markdown",
   "id": "cbb32398",
   "metadata": {},
   "source": [
    "---\n",
    "\n",
    "### Çoklu Yorum Satırları\n",
    "\n",
    "Bazen birden fazla satırı yorum satırı haline getirmemiz gerekebilir. Böyle durumlarda birden fazla satırda `#` sembolünü kullanabiliriz veya ikinci bir yol olarak `\"\"\" \"\"\"` sembolleri arasına yorum olarak bırakmak istediğimiz cümleleri yazabiliriz.\n",
    "\n"
   ]
  },
  {
   "cell_type": "code",
   "execution_count": 14,
   "id": "03d2724b",
   "metadata": {},
   "outputs": [
    {
     "name": "stdout",
     "output_type": "stream",
     "text": [
      "Hello World\n"
     ]
    }
   ],
   "source": [
    "# Satır 1\n",
    "# Satır 2\n",
    "# Satır 3\n",
    "\n",
    "# ---------- Veya ---------- \n",
    "\n",
    "\"\"\"\n",
    "\n",
    "satır 1\n",
    "satır 2\n",
    "satır 3\n",
    "\n",
    "\"\"\"\n",
    "\n",
    "print(\"Hello World\")"
   ]
  }
 ],
 "metadata": {
  "kernelspec": {
   "display_name": "Python 3 (ipykernel)",
   "language": "python",
   "name": "python3"
  },
  "language_info": {
   "codemirror_mode": {
    "name": "ipython",
    "version": 3
   },
   "file_extension": ".py",
   "mimetype": "text/x-python",
   "name": "python",
   "nbconvert_exporter": "python",
   "pygments_lexer": "ipython3",
   "version": "3.11.1"
  }
 },
 "nbformat": 4,
 "nbformat_minor": 5
}
